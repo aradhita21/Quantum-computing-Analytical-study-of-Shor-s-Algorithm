{
  "nbformat": 4,
  "nbformat_minor": 0,
  "metadata": {
    "colab": {
      "name": "shor's.ipynb",
      "provenance": [],
      "collapsed_sections": []
    },
    "kernelspec": {
      "name": "python3",
      "display_name": "Python 3"
    },
    "language_info": {
      "name": "python"
    }
  },
  "cells": [
    {
      "cell_type": "markdown",
      "source": [
        "Submitted by : Aradhita sharma"
      ],
      "metadata": {
        "id": "C2gQkeA0EKCN"
      }
    },
    {
      "cell_type": "code",
      "execution_count": null,
      "metadata": {
        "id": "eU86fpOx2b1m"
      },
      "outputs": [],
      "source": [
        "!pip install qiskit"
      ]
    },
    {
      "cell_type": "code",
      "source": [
        "import matplotlib.pyplot as plt\n",
        "import numpy as np\n",
        "from qiskit import QuantumCircuit, Aer, transpile, assemble\n",
        "from qiskit.visualization import plot_histogram\n",
        "from math import gcd\n",
        "from numpy.random import randint\n",
        "import pandas as pd\n",
        "from fractions import Fraction\n",
        "import time\n",
        "from math import gcd # greatest common divisor\n",
        "\n",
        "print(\"Imports Successful\")"
      ],
      "metadata": {
        "colab": {
          "base_uri": "https://localhost:8080/"
        },
        "id": "W1QfLKde2gwG",
        "outputId": "9b841066-1d36-4c11-b0b8-22f2c385a3b5"
      },
      "execution_count": null,
      "outputs": [
        {
          "output_type": "stream",
          "name": "stdout",
          "text": [
            "Imports Successful\n"
          ]
        }
      ]
    },
    {
      "cell_type": "code",
      "source": [
        "def classical_prime_factors(n):\n",
        "    i = 2\n",
        "    factors = []\n",
        "    while i * i <= n:\n",
        "        if n % i:\n",
        "            i += 1\n",
        "        else:\n",
        "            n //= i\n",
        "            factors.append(i)\n",
        "    if n > 1:\n",
        "        factors.append(n)\n",
        "    return factors\n",
        "\n",
        "def qft_dagger(n):\n",
        "    \"\"\"n-qubit QFTdagger the first n qubits in circ\"\"\"\n",
        "    qc = QuantumCircuit(n)\n",
        "    # Don't forget the Swaps!\n",
        "    for qubit in range(n//2):\n",
        "        qc.swap(qubit, n-qubit-1)\n",
        "    for j in range(n):\n",
        "        for m in range(j):\n",
        "            qc.cp(-np.pi/float(2**(j-m)), m, j)\n",
        "        qc.h(j)\n",
        "    qc.name = \"QFT†\"\n",
        "    return qc\n",
        "\n",
        "def a2jmodN(a, j, N):\n",
        "    \"\"\"Compute a^{2^j} (mod N) by repeated squaring\"\"\"\n",
        "    for i in range(j):\n",
        "        a = np.mod(a**2, N)\n",
        "    return a\n",
        "\n",
        "def c_amod15(a, power):\n",
        "    \"\"\"Controlled multiplication by a mod 15\"\"\"\n",
        "    if a not in [2,4,7,8,11,13]:\n",
        "        raise ValueError(\"'a' must be 2,4,7,8,11 or 13\")\n",
        "    U = QuantumCircuit(4)        \n",
        "    for iteration in range(power):\n",
        "        if a in [2,13]:\n",
        "            U.swap(0,1)\n",
        "            U.swap(1,2)\n",
        "            U.swap(2,3)\n",
        "        if a in [7,8]:\n",
        "            U.swap(2,3)\n",
        "            U.swap(1,2)\n",
        "            U.swap(0,1)\n",
        "        if a in [4, 11]:\n",
        "            U.swap(1,3)\n",
        "            U.swap(0,2)\n",
        "        if a in [7,11,13]:\n",
        "            for q in range(4):\n",
        "                U.x(q)\n",
        "    U = U.to_gate()\n",
        "    U.name = \"%i^%i mod 15\" % (a, power)\n",
        "    c_U = U.control()\n",
        "    return c_U\n",
        "\n",
        "def qpe_amod15(a):\n",
        "    n_count = 8\n",
        "    qc = QuantumCircuit(4+n_count, n_count)\n",
        "    for q in range(n_count):\n",
        "        qc.h(q)     # Initialize counting qubits in state |+>\n",
        "    qc.x(3+n_count) # And auxiliary register in state |1>\n",
        "    for q in range(n_count): # Do controlled-U operations\n",
        "        qc.append(c_amod15(a, 2**q), \n",
        "                 [q] + [i+n_count for i in range(4)])\n",
        "    qc.append(qft_dagger(n_count), range(n_count)) # Do inverse-QFT\n",
        "    qc.measure(range(n_count), range(n_count))\n",
        "    # Simulate Results\n",
        "    aer_sim = Aer.get_backend('aer_simulator')\n",
        "    # Setting memory=True below allows us to see a list of each sequential reading\n",
        "    t_qc = transpile(qc, aer_sim)\n",
        "    qobj = assemble(t_qc, shots=1)\n",
        "    result = aer_sim.run(qobj, memory=True).result()\n",
        "    readings = result.get_memory()\n",
        "    #print(\"Register Reading: \" + readings[0])\n",
        "    phase = int(readings[0],2)/(2**n_count)\n",
        "    \n",
        "    #print(\"Corresponding Phase: %f\" % phase)\n",
        "    return phase"
      ],
      "metadata": {
        "id": "YTMY46972igy"
      },
      "execution_count": null,
      "outputs": []
    },
    {
      "cell_type": "code",
      "source": [
        "#factoring N\n",
        "N = 15\n",
        "\n",
        "#######classical factorisation\n",
        "print(\"Classical Computation\")\n",
        "classical = time.time()\n",
        "classical_answer = classical_prime_factors(N)\n",
        "print(\"factors obtained\",classical_answer)\n",
        "print(\"execution time\", time.time()-classical)\n",
        "print(\"\")\n",
        "####### quantum factorisation\n",
        "print(\"Quantum Computation\")\n",
        "#choose random number btw 2-15 (exclude 1)\n",
        "np.random.seed(1) # This is to make sure we get reproduceable results\n",
        "a = randint(2, 15)\n",
        "a = 13\n",
        "quantum = time.time()\n",
        "#check if is non trivial factor of N\n",
        "while(gcd(a, N) != 1):\n",
        "  a = randint(2, 15)\n",
        "\n",
        "print(\"Random A = \",a)\n",
        "factor_found = False\n",
        "attempt = 0\n",
        "while not factor_found:\n",
        "    attempt += 1\n",
        "    print(\"\\nAttempt %i:\" % attempt)\n",
        "    phase = qpe_amod15(a) # Phase = s/r\n",
        "    frac = Fraction(phase).limit_denominator(N) # Denominator should (hopefully!) tell us r\n",
        "    r = frac.denominator\n",
        "    print(\"Result: r = %i\" % r)\n",
        "    if phase != 0:\n",
        "        # Guesses for factors are gcd(x^{r/2} ±1 , 15)\n",
        "        guesses = [gcd(a**(r//2)-1, N), gcd(a**(r//2)+1, N)]\n",
        "        #print(\"Guessed Factors: %i and %i\" % (guesses[0], guesses[1]))\n",
        "        for guess in guesses:\n",
        "            if guess not in [1,N] and (N % guess) == 0: # Check to see if guess is a factor\n",
        "                print(\"*** factor found: %i ***\" % guess)\n",
        "                factor_found = True\n",
        "\n",
        "print(\"quantum execution time\", time.time()-quantum)\n"
      ],
      "metadata": {
        "colab": {
          "base_uri": "https://localhost:8080/"
        },
        "id": "MCyAOnPX4H1p",
        "outputId": "8070bb29-4e72-4250-e412-9e3e8fabac08"
      },
      "execution_count": null,
      "outputs": [
        {
          "output_type": "stream",
          "name": "stdout",
          "text": [
            "Classical Computation\n",
            "factors obtained [3, 5]\n",
            "execution time 0.0005297660827636719\n",
            "\n",
            "Quantum Computation\n",
            "Random A =  13\n",
            "\n",
            "Attempt 1:\n",
            "Result: r = 4\n",
            "*** factor found: 3 ***\n",
            "*** factor found: 5 ***\n",
            "quantum execution time 2.187412977218628\n"
          ]
        }
      ]
    },
    {
      "cell_type": "code",
      "source": [
        ""
      ],
      "metadata": {
        "id": "bOHFEpFMCv8g"
      },
      "execution_count": null,
      "outputs": []
    }
  ]
}